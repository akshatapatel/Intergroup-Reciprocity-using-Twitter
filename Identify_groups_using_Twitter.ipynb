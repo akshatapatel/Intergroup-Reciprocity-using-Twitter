{
 "cells": [
  {
   "cell_type": "markdown",
   "metadata": {},
   "source": [
    "### Import libraries"
   ]
  },
  {
   "cell_type": "code",
   "execution_count": 1,
   "metadata": {},
   "outputs": [],
   "source": [
    "import urllib\n",
    "from selenium import webdriver\n",
    "from selenium.webdriver.common.keys import Keys\n",
    "from selenium.webdriver.common.actions import key_input,mouse_button\n",
    "from selenium.webdriver.common.action_chains import ActionChains\n",
    "import re\n",
    "import pandas as pd\n",
    "import IPython\n",
    "\n",
    "import requests\n",
    "from io import BytesIO\n",
    "import matplotlib.pyplot as plt\n",
    "import numpy as np\n",
    "import os\n",
    "\n",
    "try:\n",
    "    from urllib import urlretrieve as urlretrieve\n",
    "except ImportError:\n",
    "    from urllib.request import urlretrieve as urlretrieve\n",
    "    \n",
    "\n"
   ]
  },
  {
   "cell_type": "markdown",
   "metadata": {},
   "source": [
    "### Twitter Scraping phase 1: Get list of democrat and republican leaders, their followers and their tweets"
   ]
  },
  {
   "cell_type": "markdown",
   "metadata": {},
   "source": [
    "#### Get list of Republican leaders"
   ]
  },
  {
   "cell_type": "markdown",
   "metadata": {},
   "source": [
    "#### Create html driver, direct to url for official republican account"
   ]
  },
  {
   "cell_type": "code",
   "execution_count": 107,
   "metadata": {},
   "outputs": [],
   "source": [
    "search = \"HouseGOP/lists/house-republicans/members\"\n",
    "URL = \"https://twitter.com/\"+search+\"?lang=en\"\n",
    "\n",
    "driver = webdriver.Chrome('/Users/karan/Downloads/chromedriver')\n",
    "driver.implicitly_wait(1)\n",
    "driver.get(URL)"
   ]
  },
  {
   "cell_type": "code",
   "execution_count": 108,
   "metadata": {},
   "outputs": [],
   "source": [
    "html = driver.page_source\n"
   ]
  },
  {
   "cell_type": "markdown",
   "metadata": {},
   "source": [
    "#### Store list of mebers using the HTML structure of page"
   ]
  },
  {
   "cell_type": "code",
   "execution_count": 111,
   "metadata": {},
   "outputs": [],
   "source": [
    "df_rep = pd.DataFrame()\n",
    "while True:\n",
    "    \n",
    "    whole_list = driver.find_element_by_class_name('stream-items')\n",
    "    member_list = whole_list.find_elements_by_class_name('js-stream-item')\n",
    "    \n",
    "    ActionChains(driver) \\\n",
    "    .key_down(Keys.PAGE_DOWN) \\\n",
    "    .key_up(Keys.PAGE_DOWN) \\\n",
    "    .perform()\n",
    "    \n",
    "    if (len(member_list)) < 200:\n",
    "        continue\n",
    "    \n",
    "    for member in member_list:\n",
    "        member2 = member.find_elements_by_class_name('account')[0]\n",
    "        df_rep = df_rep.append({'Screen_name': member2.get_attribute('data-screen-name'), 'User_Id': member2.get_attribute('data-user-id'), 'Name': member2.get_attribute('data-name')}, ignore_index=True)\n",
    "    \n",
    "    break"
   ]
  },
  {
   "cell_type": "markdown",
   "metadata": {},
   "source": [
    "#### Get list of Democrat leaders"
   ]
  },
  {
   "cell_type": "markdown",
   "metadata": {},
   "source": [
    "#### Create html driver, direct to url for official democrat account"
   ]
  },
  {
   "cell_type": "code",
   "execution_count": 117,
   "metadata": {},
   "outputs": [],
   "source": [
    "search = \"TheDemocrats/lists/house-democrats/members\"\n",
    "URL = \"https://twitter.com/\"+search+\"?lang=en\"\n",
    "\n",
    "\n",
    "driver.implicitly_wait(1)\n",
    "driver.get(URL)"
   ]
  },
  {
   "cell_type": "code",
   "execution_count": 118,
   "metadata": {},
   "outputs": [],
   "source": [
    "html = driver.page_source"
   ]
  },
  {
   "cell_type": "markdown",
   "metadata": {},
   "source": [
    "#### Store list of mebers using the HTML structure of page"
   ]
  },
  {
   "cell_type": "code",
   "execution_count": 120,
   "metadata": {},
   "outputs": [],
   "source": [
    "df_dem = pd.DataFrame()\n",
    "while True:\n",
    "    \n",
    "    whole_list = driver.find_element_by_class_name('stream-items')\n",
    "    member_list = whole_list.find_elements_by_class_name('js-stream-item')\n",
    "    \n",
    "    ActionChains(driver) \\\n",
    "    .key_down(Keys.PAGE_DOWN) \\\n",
    "    .key_up(Keys.PAGE_DOWN) \\\n",
    "    .perform()\n",
    "    \n",
    "    if (len(member_list)) < 200:\n",
    "        continue\n",
    "    \n",
    "    for member in member_list:\n",
    "        member2 = member.find_elements_by_class_name('account')[0]\n",
    "        df_dem = df_dem.append({'Screen_name': member2.get_attribute('data-screen-name'), 'User_Id': member2.get_attribute('data-user-id'), 'Name': member2.get_attribute('data-name')}, ignore_index=True)\n",
    "    \n",
    "    break"
   ]
  },
  {
   "cell_type": "markdown",
   "metadata": {},
   "source": [
    "#### Store in csv format"
   ]
  },
  {
   "cell_type": "code",
   "execution_count": 138,
   "metadata": {},
   "outputs": [],
   "source": [
    "df_dem.to_csv(\"dem.csv\",index=False)\n",
    "df_rep.to_csv(\"rep.csv\",index=False)"
   ]
  },
  {
   "cell_type": "code",
   "execution_count": null,
   "metadata": {},
   "outputs": [],
   "source": []
  }
 ],
 "metadata": {
  "kernelspec": {
   "display_name": "Python 3",
   "language": "python",
   "name": "python3"
  },
  "language_info": {
   "codemirror_mode": {
    "name": "ipython",
    "version": 3
   },
   "file_extension": ".py",
   "mimetype": "text/x-python",
   "name": "python",
   "nbconvert_exporter": "python",
   "pygments_lexer": "ipython3",
   "version": "3.6.8"
  }
 },
 "nbformat": 4,
 "nbformat_minor": 2
}
