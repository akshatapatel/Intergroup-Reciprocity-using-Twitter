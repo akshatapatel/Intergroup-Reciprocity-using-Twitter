{
 "cells": [
  {
   "cell_type": "markdown",
   "metadata": {},
   "source": [
    "### Creating corpus of interaction tweets"
   ]
  },
  {
   "cell_type": "code",
   "execution_count": 62,
   "metadata": {},
   "outputs": [],
   "source": [
    "import pandas as pd\n",
    "import numpy as np\n",
    "import tweepy\n",
    "import nltk\n",
    "from nltk.sentiment.vader import SentimentIntensityAnalyzer as SIA"
   ]
  },
  {
   "cell_type": "markdown",
   "metadata": {},
   "source": [
    "#### Load the members of democrat and republican lists"
   ]
  },
  {
   "cell_type": "code",
   "execution_count": 2,
   "metadata": {},
   "outputs": [],
   "source": [
    "dem_df = pd.read_csv('dem.csv')\n",
    "rep_df = pd.read_csv('rep.csv')"
   ]
  },
  {
   "cell_type": "code",
   "execution_count": 3,
   "metadata": {},
   "outputs": [],
   "source": [
    "dem_names = dem_df.Screen_name.tolist()\n",
    "rep_names = rep_df.Screen_name.tolist()"
   ]
  },
  {
   "cell_type": "code",
   "execution_count": 5,
   "metadata": {},
   "outputs": [
    {
     "data": {
      "text/plain": [
       "392"
      ]
     },
     "execution_count": 5,
     "metadata": {},
     "output_type": "execute_result"
    }
   ],
   "source": [
    "all_names = [name for name in dem_names]\n",
    "all_names.extend(rep_names)\n",
    "len(all_names)"
   ]
  },
  {
   "cell_type": "code",
   "execution_count": 6,
   "metadata": {},
   "outputs": [
    {
     "name": "stdout",
     "output_type": "stream",
     "text": [
      "200\n",
      "192\n"
     ]
    }
   ],
   "source": [
    "print(len(dem_names))\n",
    "print(len(rep_names))"
   ]
  },
  {
   "cell_type": "code",
   "execution_count": 7,
   "metadata": {},
   "outputs": [
    {
     "data": {
      "text/html": [
       "<div>\n",
       "<style scoped>\n",
       "    .dataframe tbody tr th:only-of-type {\n",
       "        vertical-align: middle;\n",
       "    }\n",
       "\n",
       "    .dataframe tbody tr th {\n",
       "        vertical-align: top;\n",
       "    }\n",
       "\n",
       "    .dataframe thead th {\n",
       "        text-align: right;\n",
       "    }\n",
       "</style>\n",
       "<table border=\"1\" class=\"dataframe\">\n",
       "  <thead>\n",
       "    <tr style=\"text-align: right;\">\n",
       "      <th></th>\n",
       "      <th>Name</th>\n",
       "      <th>Screen_name</th>\n",
       "      <th>User_Id</th>\n",
       "    </tr>\n",
       "  </thead>\n",
       "  <tbody>\n",
       "    <tr>\n",
       "      <th>0</th>\n",
       "      <td>US Rep. Darren Soto</td>\n",
       "      <td>RepDarrenSoto</td>\n",
       "      <td>818713465653051392</td>\n",
       "    </tr>\n",
       "    <tr>\n",
       "      <th>1</th>\n",
       "      <td>Senator Jacky Rosen</td>\n",
       "      <td>SenJackyRosen</td>\n",
       "      <td>818554054309715969</td>\n",
       "    </tr>\n",
       "    <tr>\n",
       "      <th>2</th>\n",
       "      <td>US Rep. Al Lawson Jr</td>\n",
       "      <td>RepAlLawsonJr</td>\n",
       "      <td>818472418620608512</td>\n",
       "    </tr>\n",
       "    <tr>\n",
       "      <th>3</th>\n",
       "      <td>Adriano Espaillat</td>\n",
       "      <td>RepEspaillat</td>\n",
       "      <td>817076257770835968</td>\n",
       "    </tr>\n",
       "    <tr>\n",
       "      <th>4</th>\n",
       "      <td>Rep. Blunt Rochester</td>\n",
       "      <td>RepLBR</td>\n",
       "      <td>817050219007328258</td>\n",
       "    </tr>\n",
       "  </tbody>\n",
       "</table>\n",
       "</div>"
      ],
      "text/plain": [
       "                   Name    Screen_name             User_Id\n",
       "0   US Rep. Darren Soto  RepDarrenSoto  818713465653051392\n",
       "1   Senator Jacky Rosen  SenJackyRosen  818554054309715969\n",
       "2  US Rep. Al Lawson Jr  RepAlLawsonJr  818472418620608512\n",
       "3     Adriano Espaillat   RepEspaillat  817076257770835968\n",
       "4  Rep. Blunt Rochester         RepLBR  817050219007328258"
      ]
     },
     "execution_count": 7,
     "metadata": {},
     "output_type": "execute_result"
    }
   ],
   "source": [
    "dem_df.head()"
   ]
  },
  {
   "cell_type": "code",
   "execution_count": 8,
   "metadata": {},
   "outputs": [
    {
     "data": {
      "text/html": [
       "<div>\n",
       "<style scoped>\n",
       "    .dataframe tbody tr th:only-of-type {\n",
       "        vertical-align: middle;\n",
       "    }\n",
       "\n",
       "    .dataframe tbody tr th {\n",
       "        vertical-align: top;\n",
       "    }\n",
       "\n",
       "    .dataframe thead th {\n",
       "        text-align: right;\n",
       "    }\n",
       "</style>\n",
       "<table border=\"1\" class=\"dataframe\">\n",
       "  <thead>\n",
       "    <tr style=\"text-align: right;\">\n",
       "      <th></th>\n",
       "      <th>Name</th>\n",
       "      <th>Screen_name</th>\n",
       "      <th>User_Id</th>\n",
       "    </tr>\n",
       "  </thead>\n",
       "  <tbody>\n",
       "    <tr>\n",
       "      <th>0</th>\n",
       "      <td>Rep. Chip Roy</td>\n",
       "      <td>RepChipRoy</td>\n",
       "      <td>1082790600292925440</td>\n",
       "    </tr>\n",
       "    <tr>\n",
       "      <th>1</th>\n",
       "      <td>Rep. Greg Pence</td>\n",
       "      <td>RepGregPence</td>\n",
       "      <td>1082369392229400576</td>\n",
       "    </tr>\n",
       "    <tr>\n",
       "      <th>2</th>\n",
       "      <td>John Joyce</td>\n",
       "      <td>RepJohnJoyce</td>\n",
       "      <td>1082311988926124036</td>\n",
       "    </tr>\n",
       "    <tr>\n",
       "      <th>3</th>\n",
       "      <td>Carol Miller</td>\n",
       "      <td>RepCarolMiller</td>\n",
       "      <td>1081318716573470720</td>\n",
       "    </tr>\n",
       "    <tr>\n",
       "      <th>4</th>\n",
       "      <td>John Rose</td>\n",
       "      <td>RepJohnRose</td>\n",
       "      <td>1081312310059253763</td>\n",
       "    </tr>\n",
       "  </tbody>\n",
       "</table>\n",
       "</div>"
      ],
      "text/plain": [
       "              Name     Screen_name              User_Id\n",
       "0    Rep. Chip Roy      RepChipRoy  1082790600292925440\n",
       "1  Rep. Greg Pence    RepGregPence  1082369392229400576\n",
       "2       John Joyce    RepJohnJoyce  1082311988926124036\n",
       "3     Carol Miller  RepCarolMiller  1081318716573470720\n",
       "4        John Rose     RepJohnRose  1081312310059253763"
      ]
     },
     "execution_count": 8,
     "metadata": {},
     "output_type": "execute_result"
    }
   ],
   "source": [
    "rep_df.head()"
   ]
  },
  {
   "cell_type": "code",
   "execution_count": 9,
   "metadata": {},
   "outputs": [],
   "source": [
    "auth = tweepy.OAuthHandler('rqc3QgAjT8SMEM3L45K9Hf4em','xEo1bMUirS8Lc4CbyFjvxlU6VmjW1ouWu7s1LvLWyasbEHoXez')\n",
    "auth.set_access_token('1035288698127040512-iZiV5ZhlYXLfivbxZtS98bDAdWB2eb','HnKIhSb143B9qNdxK88mFEnRjAWeBFNYNqhYRLqhPRlxh')\n",
    "\n",
    "api = tweepy.API(auth)\n"
   ]
  },
  {
   "cell_type": "markdown",
   "metadata": {},
   "source": [
    "### Extracting tweets of the usernames"
   ]
  },
  {
   "cell_type": "code",
   "execution_count": 10,
   "metadata": {},
   "outputs": [],
   "source": [
    "tweets_dict = {\n",
    "              \"created_at\":[],\n",
    "              \"id\": [],\n",
    "              \"text\": [],\n",
    "              \"retweets\" : [],\n",
    "              \"retweet_count\" : [],\n",
    "              \"user_screenname\":[],\n",
    "              \"in_reply_to_screen_name\":[],\n",
    "              \"in_reply_to_status_id\" :[],\n",
    "              \"quoted_status\":[],\n",
    "              \"hashtags\":[],\n",
    "              \"user_mentions\":[],\n",
    "              \"type_of_interaction\":[],\n",
    "                }\n"
   ]
  },
  {
   "cell_type": "code",
   "execution_count": 12,
   "metadata": {
    "scrolled": true
   },
   "outputs": [
    {
     "name": "stdout",
     "output_type": "stream",
     "text": [
      "Failed to run the command on that user, Skipping... nikiinthehouse\n"
     ]
    }
   ],
   "source": [
    "for screenname in all_names:\n",
    "    try:\n",
    "        stuff = api.user_timeline(screen_name = screenname,tweet_mode='extended')\n",
    "        for status in stuff:\n",
    "           \n",
    "            if status.retweet_count>0 or status.in_reply_to_screen_name:\n",
    "                tweets_dict['created_at'].append(status.created_at)\n",
    "                tweets_dict['id'].append(status.id)\n",
    "                tweets_dict['text'].append(status.full_text)\n",
    "                tweets_dict['retweets'].append(status.retweets)\n",
    "                tweets_dict['retweet_count'].append(status.retweet_count)\n",
    "                tweets_dict['user_screenname'].append(status.user.screen_name)\n",
    "                tweets_dict['in_reply_to_screen_name'].append(status.in_reply_to_screen_name)\n",
    "                tweets_dict['in_reply_to_status_id'].append(status.in_reply_to_status_id_str)\n",
    "                \n",
    "                ### If it is a quoted tweet\n",
    "                if status.is_quote_status:\n",
    "                    try:\n",
    "                        tweets_dict['quoted_status'].append(status.quoted_status)\n",
    "                    except AttributeError:\n",
    "                        tweets_dict['quoted_status'].append(None)\n",
    "                                 \n",
    "                else:\n",
    "                    tweets_dict['quoted_status'].append(None)\n",
    "           \n",
    "        \n",
    "                ### get hashtags\n",
    "                hashtags = status.entities['hashtags']\n",
    "                hastags_list = []\n",
    "                \n",
    "                for i_iter in range(0,len(hashtags)):\n",
    "                    hastags_list.append(hashtags[i_iter]['text'])\n",
    "                    \n",
    "                tweets_dict['hashtags'].append(hastags_list)\n",
    "                \n",
    "                \n",
    "                ### get user mentions of the tweet\n",
    "                user_mentions = (status.entities['user_mentions'])\n",
    "                user_mention_list = []\n",
    "                \n",
    "                for i_iter in range(0,len(user_mentions)):\n",
    "                    user_mention_list.append(user_mentions[i_iter]['screen_name'])\n",
    "                    \n",
    "                tweets_dict['user_mentions'].append(user_mention_list)\n",
    "                \n",
    "                ### user mention interaction --> type_of_interaction\n",
    "                interaction_string=\"\"\n",
    "                if status.user.screen_name in rep_names:\n",
    "                    for each_user_mention in user_mention_list:\n",
    "                        if (each_user_mention in dem_names) or each_user_mention=='HouseDemocrats':\n",
    "                            interaction_string\n",
    "                            interaction_string = \"Rep->Dem\"\n",
    "                            break\n",
    "                        elif (each_user_mention in rep_names) or each_user_mention=='HouseGOP':\n",
    "                            interaction_string = \"Rep->Rep\"\n",
    "                            break\n",
    "                elif status.user.screen_name in dem_names:\n",
    "                    for each_user_mention in user_mention_list:\n",
    "                        if (each_user_mention in rep_names) or each_user_mention=='HouseGOP':\n",
    "                            interaction_string = \"Dem->Rep\"\n",
    "                            break\n",
    "                        elif (each_user_mention in dem_names) or each_user_mention=='HouseDemocrats':\n",
    "                            interaction_string = \"Dem->Dem\"\n",
    "                            break\n",
    "                \n",
    "                tweets_dict['type_of_interaction'].append(interaction_string)          \n",
    "                            \n",
    "                    \n",
    "    except tweepy.TweepError:\n",
    "        print(\"Failed to run the command on that user, Skipping...\",screenname)\n",
    "\n",
    "    "
   ]
  },
  {
   "cell_type": "code",
   "execution_count": 14,
   "metadata": {},
   "outputs": [],
   "source": [
    "### saving it into a dataframe\n",
    "tweets_dict_data = pd.DataFrame(tweets_dict)"
   ]
  },
  {
   "cell_type": "code",
   "execution_count": 15,
   "metadata": {},
   "outputs": [
    {
     "data": {
      "text/plain": [
       "7118"
      ]
     },
     "execution_count": 15,
     "metadata": {},
     "output_type": "execute_result"
    }
   ],
   "source": [
    "len(tweets_dict_data)"
   ]
  },
  {
   "cell_type": "markdown",
   "metadata": {},
   "source": [
    "#### Get the name of the author and the text of the original text if the tweet extracted is a quoted tweet"
   ]
  },
  {
   "cell_type": "code",
   "execution_count": 17,
   "metadata": {},
   "outputs": [],
   "source": [
    "quoted_text = []\n",
    "quoted_text_screenname = []\n",
    "for tw in tweets_dict_data.quoted_status:\n",
    "    if tw!=None:\n",
    "        quoted_text.append(tw.full_text)\n",
    "        quoted_text_screenname.append(tw.user.screen_name)\n",
    "    else:\n",
    "        quoted_text.append(None)\n",
    "        quoted_text_screenname.append(None)"
   ]
  },
  {
   "cell_type": "code",
   "execution_count": 18,
   "metadata": {},
   "outputs": [],
   "source": [
    "tweets_dict_data['quoted_text_original']=quoted_text\n",
    "tweets_dict_data['quoted_text_original_screenname']=quoted_text_screenname"
   ]
  },
  {
   "cell_type": "markdown",
   "metadata": {},
   "source": [
    "#### Get the name of the author if the tweet extracted is a retweet "
   ]
  },
  {
   "cell_type": "code",
   "execution_count": 19,
   "metadata": {},
   "outputs": [],
   "source": [
    "orig_screenname=[]\n",
    "text=[]\n",
    "\n",
    "for tw in tweets_dict_data['text'].tolist():\n",
    "    if 'RT @' in tw:\n",
    "        orig_screenname.append(tw.split('@')[1].split(':')[0])\n",
    "        text.append(tw.split(':')[1])\n",
    "    else:\n",
    "        orig_screenname.append(None)\n",
    "        text.append(tw)\n",
    "        "
   ]
  },
  {
   "cell_type": "code",
   "execution_count": 20,
   "metadata": {},
   "outputs": [],
   "source": [
    "tweets_dict_data['retweeting_orig_screenname']=orig_screenname\n",
    "tweets_dict_data['text']=text"
   ]
  },
  {
   "cell_type": "markdown",
   "metadata": {},
   "source": [
    "#### Get the name of the author and the text of the original text if the tweet extracted is a reply to a tweet"
   ]
  },
  {
   "cell_type": "code",
   "execution_count": 21,
   "metadata": {},
   "outputs": [],
   "source": [
    "orig_text=[]\n",
    "\n",
    "for i in tweets_dict_data.in_reply_to_status_id:\n",
    "    if i!=None:\n",
    "        try:\n",
    "            orig_text.append(api.get_status(i).text)\n",
    "            \n",
    "        except tweepy.TweepError:\n",
    "            orig_text.append(None)\n",
    "            \n",
    "    else:\n",
    "        orig_text.append(None)"
   ]
  },
  {
   "cell_type": "code",
   "execution_count": 22,
   "metadata": {},
   "outputs": [],
   "source": [
    "\n",
    "orig_text_author = []        \n",
    "        \n",
    "for i in tweets_dict_data.in_reply_to_status_id:\n",
    "    if i!=None:\n",
    "        try:\n",
    "            \n",
    "            orig_text_author.append(api.get_status(i).user.screen_name)\n",
    "        except tweepy.TweepError:\n",
    "           \n",
    "            orig_text_author.append(None)\n",
    "    else:\n",
    "       \n",
    "        orig_text_author.append(None)"
   ]
  },
  {
   "cell_type": "code",
   "execution_count": 27,
   "metadata": {},
   "outputs": [],
   "source": [
    "tweets_dict_data['orig_text_replied_to']=orig_text\n",
    "tweets_dict_data['orig_author_replied_to']=orig_text_author"
   ]
  },
  {
   "cell_type": "code",
   "execution_count": 28,
   "metadata": {},
   "outputs": [
    {
     "data": {
      "text/html": [
       "<div>\n",
       "<style scoped>\n",
       "    .dataframe tbody tr th:only-of-type {\n",
       "        vertical-align: middle;\n",
       "    }\n",
       "\n",
       "    .dataframe tbody tr th {\n",
       "        vertical-align: top;\n",
       "    }\n",
       "\n",
       "    .dataframe thead th {\n",
       "        text-align: right;\n",
       "    }\n",
       "</style>\n",
       "<table border=\"1\" class=\"dataframe\">\n",
       "  <thead>\n",
       "    <tr style=\"text-align: right;\">\n",
       "      <th></th>\n",
       "      <th>created_at</th>\n",
       "      <th>id</th>\n",
       "      <th>text</th>\n",
       "      <th>retweets</th>\n",
       "      <th>retweet_count</th>\n",
       "      <th>user_screenname</th>\n",
       "      <th>in_reply_to_screen_name</th>\n",
       "      <th>in_reply_to_status_id</th>\n",
       "      <th>quoted_status</th>\n",
       "      <th>hashtags</th>\n",
       "      <th>user_mentions</th>\n",
       "      <th>type_of_interaction</th>\n",
       "      <th>quoted_text_original</th>\n",
       "      <th>quoted_text_original_screenname</th>\n",
       "      <th>retweeting_orig_screenname</th>\n",
       "      <th>orig_text_replied_to</th>\n",
       "      <th>orig_author_replied_to</th>\n",
       "    </tr>\n",
       "  </thead>\n",
       "  <tbody>\n",
       "    <tr>\n",
       "      <th>0</th>\n",
       "      <td>2019-05-03 17:56:09</td>\n",
       "      <td>1124372085114122240</td>\n",
       "      <td>The stakes are high for our community! Fla cou...</td>\n",
       "      <td>&lt;bound method Status.retweets of Status(_api=&lt;...</td>\n",
       "      <td>2</td>\n",
       "      <td>RepDarrenSoto</td>\n",
       "      <td>None</td>\n",
       "      <td>None</td>\n",
       "      <td>None</td>\n",
       "      <td>[ForThePeople]</td>\n",
       "      <td>[HouseDemocrats]</td>\n",
       "      <td>Dem-&gt;Dem</td>\n",
       "      <td>None</td>\n",
       "      <td>None</td>\n",
       "      <td>None</td>\n",
       "      <td>None</td>\n",
       "      <td>None</td>\n",
       "    </tr>\n",
       "    <tr>\n",
       "      <th>1</th>\n",
       "      <td>2019-05-03 15:37:27</td>\n",
       "      <td>1124337179633885187</td>\n",
       "      <td>Teachers teach and police protect and serve. A...</td>\n",
       "      <td>&lt;bound method Status.retweets of Status(_api=&lt;...</td>\n",
       "      <td>4</td>\n",
       "      <td>RepDarrenSoto</td>\n",
       "      <td>None</td>\n",
       "      <td>None</td>\n",
       "      <td>None</td>\n",
       "      <td>[]</td>\n",
       "      <td>[]</td>\n",
       "      <td></td>\n",
       "      <td>None</td>\n",
       "      <td>None</td>\n",
       "      <td>None</td>\n",
       "      <td>None</td>\n",
       "      <td>None</td>\n",
       "    </tr>\n",
       "    <tr>\n",
       "      <th>2</th>\n",
       "      <td>2019-05-03 14:40:51</td>\n",
       "      <td>1124322936809250816</td>\n",
       "      <td>.@HispanicCaucus, @CAPAC, &amp;amp; @OfficialCBC ...</td>\n",
       "      <td>&lt;bound method Status.retweets of Status(_api=&lt;...</td>\n",
       "      <td>17</td>\n",
       "      <td>RepDarrenSoto</td>\n",
       "      <td>None</td>\n",
       "      <td>None</td>\n",
       "      <td>None</td>\n",
       "      <td>[]</td>\n",
       "      <td>[HispanicCaucus, HispanicCaucus, CAPAC, Offici...</td>\n",
       "      <td></td>\n",
       "      <td>None</td>\n",
       "      <td>None</td>\n",
       "      <td>HispanicCaucus</td>\n",
       "      <td>None</td>\n",
       "      <td>None</td>\n",
       "    </tr>\n",
       "    <tr>\n",
       "      <th>3</th>\n",
       "      <td>2019-05-02 21:51:56</td>\n",
       "      <td>1124069034725605377</td>\n",
       "      <td>U.S. House passes Climate Action Now Act, wou...</td>\n",
       "      <td>&lt;bound method Status.retweets of Status(_api=&lt;...</td>\n",
       "      <td>5</td>\n",
       "      <td>RepDarrenSoto</td>\n",
       "      <td>None</td>\n",
       "      <td>None</td>\n",
       "      <td>None</td>\n",
       "      <td>[]</td>\n",
       "      <td>[garywhite13]</td>\n",
       "      <td></td>\n",
       "      <td>None</td>\n",
       "      <td>None</td>\n",
       "      <td>garywhite13</td>\n",
       "      <td>None</td>\n",
       "      <td>None</td>\n",
       "    </tr>\n",
       "    <tr>\n",
       "      <th>4</th>\n",
       "      <td>2019-05-02 20:08:20</td>\n",
       "      <td>1124042960537038848</td>\n",
       "      <td>Thank you for voting in favor of H.R.9, the #...</td>\n",
       "      <td>&lt;bound method Status.retweets of Status(_api=&lt;...</td>\n",
       "      <td>3</td>\n",
       "      <td>RepDarrenSoto</td>\n",
       "      <td>None</td>\n",
       "      <td>None</td>\n",
       "      <td>None</td>\n",
       "      <td>[ClimateActionNow]</td>\n",
       "      <td>[NRDCFedGov]</td>\n",
       "      <td></td>\n",
       "      <td>None</td>\n",
       "      <td>None</td>\n",
       "      <td>NRDCFedGov</td>\n",
       "      <td>None</td>\n",
       "      <td>None</td>\n",
       "    </tr>\n",
       "  </tbody>\n",
       "</table>\n",
       "</div>"
      ],
      "text/plain": [
       "           created_at                   id  \\\n",
       "0 2019-05-03 17:56:09  1124372085114122240   \n",
       "1 2019-05-03 15:37:27  1124337179633885187   \n",
       "2 2019-05-03 14:40:51  1124322936809250816   \n",
       "3 2019-05-02 21:51:56  1124069034725605377   \n",
       "4 2019-05-02 20:08:20  1124042960537038848   \n",
       "\n",
       "                                                text  \\\n",
       "0  The stakes are high for our community! Fla cou...   \n",
       "1  Teachers teach and police protect and serve. A...   \n",
       "2   .@HispanicCaucus, @CAPAC, &amp; @OfficialCBC ...   \n",
       "3   U.S. House passes Climate Action Now Act, wou...   \n",
       "4   Thank you for voting in favor of H.R.9, the #...   \n",
       "\n",
       "                                            retweets  retweet_count  \\\n",
       "0  <bound method Status.retweets of Status(_api=<...              2   \n",
       "1  <bound method Status.retweets of Status(_api=<...              4   \n",
       "2  <bound method Status.retweets of Status(_api=<...             17   \n",
       "3  <bound method Status.retweets of Status(_api=<...              5   \n",
       "4  <bound method Status.retweets of Status(_api=<...              3   \n",
       "\n",
       "  user_screenname in_reply_to_screen_name in_reply_to_status_id quoted_status  \\\n",
       "0   RepDarrenSoto                    None                  None          None   \n",
       "1   RepDarrenSoto                    None                  None          None   \n",
       "2   RepDarrenSoto                    None                  None          None   \n",
       "3   RepDarrenSoto                    None                  None          None   \n",
       "4   RepDarrenSoto                    None                  None          None   \n",
       "\n",
       "             hashtags                                      user_mentions  \\\n",
       "0      [ForThePeople]                                   [HouseDemocrats]   \n",
       "1                  []                                                 []   \n",
       "2                  []  [HispanicCaucus, HispanicCaucus, CAPAC, Offici...   \n",
       "3                  []                                      [garywhite13]   \n",
       "4  [ClimateActionNow]                                       [NRDCFedGov]   \n",
       "\n",
       "  type_of_interaction quoted_text_original quoted_text_original_screenname  \\\n",
       "0            Dem->Dem                 None                            None   \n",
       "1                                     None                            None   \n",
       "2                                     None                            None   \n",
       "3                                     None                            None   \n",
       "4                                     None                            None   \n",
       "\n",
       "  retweeting_orig_screenname orig_text_replied_to orig_author_replied_to  \n",
       "0                       None                 None                   None  \n",
       "1                       None                 None                   None  \n",
       "2             HispanicCaucus                 None                   None  \n",
       "3                garywhite13                 None                   None  \n",
       "4                 NRDCFedGov                 None                   None  "
      ]
     },
     "execution_count": 28,
     "metadata": {},
     "output_type": "execute_result"
    }
   ],
   "source": [
    "tweets_dict_data.head()"
   ]
  },
  {
   "cell_type": "markdown",
   "metadata": {},
   "source": [
    "### Creating DataFrame of the interacting tweets"
   ]
  },
  {
   "cell_type": "code",
   "execution_count": 29,
   "metadata": {},
   "outputs": [],
   "source": [
    "interaction_tweets=pd.DataFrame(columns=tweets_dict_data.columns)"
   ]
  },
  {
   "cell_type": "code",
   "execution_count": 30,
   "metadata": {},
   "outputs": [],
   "source": [
    "sia = SIA()"
   ]
  },
  {
   "cell_type": "code",
   "execution_count": 31,
   "metadata": {},
   "outputs": [],
   "source": [
    "cntRD=0\n",
    "cntDR=0\n",
    "cntRR=0\n",
    "cntDD=0\n",
    "user_mention_RD=0\n",
    "user_mention_DD=0\n",
    "user_mention_DR=0\n",
    "user_mention_RR=0\n",
    "interaction=[]\n",
    "\n",
    "\n",
    "all_sentiment_score =[]\n",
    "\n",
    "new_iter = 0\n",
    "for i_iter in range(len(tweets_dict_data)):\n",
    "    flag=0\n",
    "    sentiment_score = sia.polarity_scores(tweets_dict_data.loc[i_iter]['text'])['compound']\n",
    "    \n",
    "    # Democrats\n",
    "    if tweets_dict_data.loc[i_iter].user_screenname in dem_names:\n",
    "        \n",
    "        ## D-R\n",
    "        # retweeted\n",
    "        if (tweets_dict_data.loc[i_iter].retweeting_orig_screenname in rep_names):\n",
    "            cntDR+=1\n",
    "            interaction_tweets.loc[new_iter]=tweets_dict_data.loc[i_iter]\n",
    "            interaction.append('Rep->Dem')\n",
    "            \n",
    "            flag=1\n",
    "            new_iter+=1  \n",
    "        #quoted\n",
    "        elif (tweets_dict_data.loc[i_iter].quoted_text_original_screenname in rep_names):\n",
    "            cntDR+=1\n",
    "            interaction_tweets.loc[new_iter]=tweets_dict_data.loc[i_iter]\n",
    "            interaction.append('Rep->Dem')\n",
    "\n",
    "            flag=1\n",
    "            new_iter+=1  \n",
    "        #post-comment\n",
    "        elif (tweets_dict_data.loc[i_iter].orig_author_replied_to in rep_names):\n",
    "            cntDR+=1\n",
    "            interaction_tweets.loc[new_iter]=tweets_dict_data.loc[i_iter]\n",
    "            interaction.append('Rep->Dem')\n",
    "            \n",
    "            flag=1\n",
    "            new_iter+=1\n",
    "        \n",
    "        ## D-D\n",
    "        #retweet\n",
    "        elif (tweets_dict_data.loc[i_iter].retweeting_orig_screenname in dem_names):\n",
    "            cntDD+=1\n",
    "            interaction_tweets.loc[new_iter]=tweets_dict_data.loc[i_iter]\n",
    "            interaction.append('Dem->Dem')\n",
    "            \n",
    "            flag=1\n",
    "            new_iter+=1\n",
    "        #quoted\n",
    "        elif (tweets_dict_data.loc[i_iter].quoted_text_original_screenname in dem_names):\n",
    "            cntDD+=1\n",
    "            interaction_tweets.loc[new_iter]=tweets_dict_data.loc[i_iter]\n",
    "            interaction.append('Dem->Dem')\n",
    "\n",
    "            flag=1\n",
    "            new_iter+=1\n",
    "        #post-comment\n",
    "        elif (tweets_dict_data.loc[i_iter].orig_author_replied_to in dem_names):\n",
    "            cntDD+=1\n",
    "            interaction_tweets.loc[new_iter]=tweets_dict_data.loc[i_iter]\n",
    "            interaction.append('Dem->Dem')\n",
    "           \n",
    "            flag=1\n",
    "            new_iter+=1\n",
    "            \n",
    "    #Republican\n",
    "    elif tweets_dict_data.loc[i_iter].user_screenname in rep_names:\n",
    "        ## R-D\n",
    "        #Retweet\n",
    "        if (tweets_dict_data.loc[i_iter].retweeting_orig_screenname in dem_names):# or  or :\n",
    "            cntRD+=1\n",
    "            interaction_tweets.loc[new_iter]=tweets_dict_data.loc[i_iter]\n",
    "            interaction.append('Dem->Rep')\n",
    "            \n",
    "            flag=1\n",
    "            new_iter+=1\n",
    "        #quoted\n",
    "        elif (tweets_dict_data.loc[i_iter].quoted_text_original_screenname in dem_names):\n",
    "            cntRD+=1\n",
    "            interaction_tweets.loc[new_iter]=tweets_dict_data.loc[i_iter]\n",
    "            interaction.append('Dem->Rep')\n",
    "            \n",
    "            flag=1\n",
    "            new_iter+=1\n",
    "        #post-comment\n",
    "        elif (tweets_dict_data.loc[i_iter].orig_author_replied_to in dem_names):\n",
    "            cntRD+=1\n",
    "            interaction_tweets.loc[new_iter]=tweets_dict_data.loc[i_iter]\n",
    "            interaction.append('Dem->Rep')\n",
    "            \n",
    "            flag=1\n",
    "            new_iter+=1\n",
    "            \n",
    "        ## R-R\n",
    "        #retweet\n",
    "        elif (tweets_dict_data.loc[i_iter].retweeting_orig_screenname in rep_names):# or  or :\n",
    "            cntRR+=1\n",
    "            interaction_tweets.loc[new_iter]=tweets_dict_data.loc[i_iter]\n",
    "            interaction.append('Rep->Rep')\n",
    "            \n",
    "            flag=1\n",
    "            new_iter+=1\n",
    "        #quoted\n",
    "        elif (tweets_dict_data.loc[i_iter].quoted_text_original_screenname in rep_names):\n",
    "            cntRR+=1\n",
    "            interaction_tweets.loc[new_iter]=tweets_dict_data.loc[i_iter]\n",
    "            interaction.append('Rep->Rep')\n",
    "            \n",
    "            flag=1\n",
    "            new_iter+=1\n",
    "        #post-comment\n",
    "        elif (tweets_dict_data.loc[i_iter].orig_author_replied_to in rep_names):\n",
    "            cntRR+=1\n",
    "            interaction_tweets.loc[new_iter]=tweets_dict_data.loc[i_iter]\n",
    "            interaction.append('Rep->Rep')\n",
    "            \n",
    "            flag=1\n",
    "            new_iter+=1\n",
    "            \n",
    "    #user-mentions\n",
    "    if flag==0:\n",
    "        if tweets_dict_data.loc[i_iter].type_of_interaction!='':\n",
    "            if tweets_dict_data.loc[i_iter].type_of_interaction=='Rep->Dem': #R-D\n",
    "                user_mention_RD+=1\n",
    "                \n",
    "            elif tweets_dict_data.loc[i_iter].type_of_interaction=='Dem->Dem': #D-D\n",
    "                user_mention_DD+=1\n",
    "                \n",
    "            elif tweets_dict_data.loc[i_iter].type_of_interaction=='Dem->Rep': #D-R\n",
    "                user_mention_DR+=1\n",
    "                \n",
    "            elif tweets_dict_data.loc[i_iter].type_of_interaction=='Rep->Rep': #R-R\n",
    "                user_mention_RR+=1\n",
    "                    \n",
    "            interaction.append(None)        \n",
    "            interaction_tweets.loc[new_iter]=tweets_dict_data.loc[i_iter]\n",
    "            new_iter+=1\n",
    "        \n"
   ]
  },
  {
   "cell_type": "code",
   "execution_count": 32,
   "metadata": {},
   "outputs": [
    {
     "name": "stdout",
     "output_type": "stream",
     "text": [
      "Republican posted and Democrats retweeted/replied/quoted : 11\n",
      "Democrats posted and Democrats retweeted/replied/quoted : 322\n",
      "Democrats posted and Republican retweeted/replied/quoted : 4\n",
      "Republican posted and Republican retweetesd/replied/quoted : 147\n",
      "\n",
      "-Users Mentioned :\n",
      "Republican posted and Democrats mentioned : 62\n",
      "Democrats posted and Democrats mentioned : 400\n",
      "Democrats posted and Republicans mentioned : 25\n",
      "Republican posted and Republicans mentioned : 363\n"
     ]
    }
   ],
   "source": [
    "print(\"Republican posted and Democrats retweeted/replied/quoted :\",cntRD)\n",
    "print(\"Democrats posted and Democrats retweeted/replied/quoted :\",cntDD)\n",
    "print(\"Democrats posted and Republican retweeted/replied/quoted :\",cntDR)\n",
    "print(\"Republican posted and Republican retweetesd/replied/quoted :\",cntRR)\n",
    "print('\\n-Users Mentioned :')\n",
    "print(\"Republican posted and Democrats mentioned :\",user_mention_RD)\n",
    "print(\"Democrats posted and Democrats mentioned :\",user_mention_DD)\n",
    "print(\"Democrats posted and Republicans mentioned :\",user_mention_DR)\n",
    "print(\"Republican posted and Republicans mentioned :\",user_mention_RR)"
   ]
  },
  {
   "cell_type": "code",
   "execution_count": 43,
   "metadata": {},
   "outputs": [],
   "source": [
    "interaction_tweets['interactions'] = interaction"
   ]
  },
  {
   "cell_type": "code",
   "execution_count": 58,
   "metadata": {},
   "outputs": [],
   "source": [
    "merged_interaction = []\n",
    "for i in range(len(interaction_tweets)):\n",
    "    if interaction_tweets['type_of_interaction'][i]!=\"\":\n",
    "        merged_interaction.append(interaction_tweets['type_of_interaction'][i])\n",
    "    else:\n",
    "        merged_interaction.append(interaction_tweets['interactions'][i])\n",
    "    "
   ]
  },
  {
   "cell_type": "code",
   "execution_count": 59,
   "metadata": {},
   "outputs": [],
   "source": [
    "interaction_tweets['final_interactions'] = merged_interaction"
   ]
  },
  {
   "cell_type": "markdown",
   "metadata": {},
   "source": [
    "##### saving the dataframes into a csv for future use"
   ]
  },
  {
   "cell_type": "code",
   "execution_count": 52,
   "metadata": {},
   "outputs": [],
   "source": [
    "tweets_dict_data.to_csv('May3_tweets.csv')"
   ]
  },
  {
   "cell_type": "code",
   "execution_count": 61,
   "metadata": {},
   "outputs": [],
   "source": [
    "interaction_tweets.to_csv('May3_interactions.csv')"
   ]
  }
 ],
 "metadata": {
  "kernelspec": {
   "display_name": "Python (Python36)",
   "language": "python",
   "name": "python36"
  },
  "language_info": {
   "codemirror_mode": {
    "name": "ipython",
    "version": 3
   },
   "file_extension": ".py",
   "mimetype": "text/x-python",
   "name": "python",
   "nbconvert_exporter": "python",
   "pygments_lexer": "ipython3",
   "version": "3.6.7"
  }
 },
 "nbformat": 4,
 "nbformat_minor": 2
}
