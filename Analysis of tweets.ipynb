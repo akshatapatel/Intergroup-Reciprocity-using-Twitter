{
 "cells": [
  {
   "cell_type": "markdown",
   "metadata": {},
   "source": [
    "### Analysis of tweets"
   ]
  },
  {
   "cell_type": "code",
   "execution_count": 1,
   "metadata": {},
   "outputs": [],
   "source": [
    "import warnings\n",
    "warnings.simplefilter(\"ignore\")"
   ]
  },
  {
   "cell_type": "code",
   "execution_count": 2,
   "metadata": {},
   "outputs": [],
   "source": [
    "import pandas as pd\n",
    "from gensim.models import KeyedVectors\n",
    "from sklearn.feature_extraction.text import TfidfVectorizer\n",
    "import numpy as np\n",
    "from sklearn.model_selection import train_test_split\n",
    "from sklearn.model_selection import cross_val_score\n",
    "from sklearn.linear_model import LogisticRegression\n",
    "from nltk.sentiment.vader import SentimentIntensityAnalyzer as SIA\n",
    "from sklearn.metrics import roc_auc_score\n",
    "from sklearn import metrics\n",
    "from scipy.sparse import coo_matrix, hstack\n",
    "import matplotlib.pyplot as plt\n",
    "import seaborn as sns"
   ]
  },
  {
   "cell_type": "markdown",
   "metadata": {},
   "source": [
    "#### Loading data from the IAC data files"
   ]
  },
  {
   "cell_type": "code",
   "execution_count": 3,
   "metadata": {},
   "outputs": [],
   "source": [
    "avg_df = pd.read_csv('qr_averages.csv')"
   ]
  },
  {
   "cell_type": "code",
   "execution_count": 4,
   "metadata": {},
   "outputs": [],
   "source": [
    "qr_df = pd.read_csv('qr_meta.csv')"
   ]
  },
  {
   "cell_type": "code",
   "execution_count": 5,
   "metadata": {},
   "outputs": [],
   "source": [
    "df = qr_df.merge(avg_df,on='key')"
   ]
  },
  {
   "cell_type": "code",
   "execution_count": 6,
   "metadata": {},
   "outputs": [],
   "source": [
    "df = df[['key','quote','response','agreement']]"
   ]
  },
  {
   "cell_type": "code",
   "execution_count": 7,
   "metadata": {},
   "outputs": [
    {
     "data": {
      "text/html": [
       "<div>\n",
       "<style scoped>\n",
       "    .dataframe tbody tr th:only-of-type {\n",
       "        vertical-align: middle;\n",
       "    }\n",
       "\n",
       "    .dataframe tbody tr th {\n",
       "        vertical-align: top;\n",
       "    }\n",
       "\n",
       "    .dataframe thead th {\n",
       "        text-align: right;\n",
       "    }\n",
       "</style>\n",
       "<table border=\"1\" class=\"dataframe\">\n",
       "  <thead>\n",
       "    <tr style=\"text-align: right;\">\n",
       "      <th></th>\n",
       "      <th>key</th>\n",
       "      <th>quote</th>\n",
       "      <th>response</th>\n",
       "      <th>agreement</th>\n",
       "    </tr>\n",
       "  </thead>\n",
       "  <tbody>\n",
       "    <tr>\n",
       "      <th>0</th>\n",
       "      <td>(731, 1)</td>\n",
       "      <td>I remember looking at the classic evolutionary...</td>\n",
       "      <td>Why do you find it necessary to fit observatio...</td>\n",
       "      <td>-1.333333</td>\n",
       "    </tr>\n",
       "    <tr>\n",
       "      <th>1</th>\n",
       "      <td>(660, 3)</td>\n",
       "      <td>So they (pro-life peeps) say abortion is murde...</td>\n",
       "      <td>Yes, you are missing something. How come age d...</td>\n",
       "      <td>0.285714</td>\n",
       "    </tr>\n",
       "    <tr>\n",
       "      <th>2</th>\n",
       "      <td>(114, 5)</td>\n",
       "      <td>'If the solar system was brought about by an a...</td>\n",
       "      <td>C.S.Lewis believes things on faith, yet we are...</td>\n",
       "      <td>-1.500000</td>\n",
       "    </tr>\n",
       "    <tr>\n",
       "      <th>3</th>\n",
       "      <td>(43, 3)</td>\n",
       "      <td>...to ToE because it means genetic evolution i...</td>\n",
       "      <td>Well, it might help if you could propose a mec...</td>\n",
       "      <td>-0.833333</td>\n",
       "    </tr>\n",
       "    <tr>\n",
       "      <th>4</th>\n",
       "      <td>(1314, 0)</td>\n",
       "      <td>Sir Issac Newton was an idiot and you are a ge...</td>\n",
       "      <td>You really think so? Im flattered, but I think...</td>\n",
       "      <td>-1.666667</td>\n",
       "    </tr>\n",
       "  </tbody>\n",
       "</table>\n",
       "</div>"
      ],
      "text/plain": [
       "         key                                              quote  \\\n",
       "0   (731, 1)  I remember looking at the classic evolutionary...   \n",
       "1   (660, 3)  So they (pro-life peeps) say abortion is murde...   \n",
       "2   (114, 5)  'If the solar system was brought about by an a...   \n",
       "3    (43, 3)  ...to ToE because it means genetic evolution i...   \n",
       "4  (1314, 0)  Sir Issac Newton was an idiot and you are a ge...   \n",
       "\n",
       "                                            response  agreement  \n",
       "0  Why do you find it necessary to fit observatio...  -1.333333  \n",
       "1  Yes, you are missing something. How come age d...   0.285714  \n",
       "2  C.S.Lewis believes things on faith, yet we are...  -1.500000  \n",
       "3  Well, it might help if you could propose a mec...  -0.833333  \n",
       "4  You really think so? Im flattered, but I think...  -1.666667  "
      ]
     },
     "execution_count": 7,
     "metadata": {},
     "output_type": "execute_result"
    }
   ],
   "source": [
    "df.head()"
   ]
  },
  {
   "cell_type": "code",
   "execution_count": 8,
   "metadata": {},
   "outputs": [],
   "source": [
    "df = df[~df['agreement'].isna()]"
   ]
  },
  {
   "cell_type": "markdown",
   "metadata": {},
   "source": [
    "#### Create class label from the 'agreement' scores"
   ]
  },
  {
   "cell_type": "code",
   "execution_count": 9,
   "metadata": {},
   "outputs": [],
   "source": [
    "def get_class(x):\n",
    "    if np.isnan(x):\n",
    "        return x\n",
    "    if x>=-5 and x<=0 :\n",
    "        return \"disagreement\"\n",
    "    else:\n",
    "        return \"agreement\"\n",
    "        "
   ]
  },
  {
   "cell_type": "code",
   "execution_count": 10,
   "metadata": {},
   "outputs": [],
   "source": [
    "df['agreement_class'] = df.apply(lambda row:get_class(row['agreement']),axis=1)"
   ]
  },
  {
   "cell_type": "code",
   "execution_count": 11,
   "metadata": {},
   "outputs": [
    {
     "data": {
      "text/plain": [
       "disagreement    8007\n",
       "agreement       1973\n",
       "Name: agreement_class, dtype: int64"
      ]
     },
     "execution_count": 11,
     "metadata": {},
     "output_type": "execute_result"
    }
   ],
   "source": [
    "df['agreement_class'].value_counts()"
   ]
  },
  {
   "cell_type": "code",
   "execution_count": 12,
   "metadata": {},
   "outputs": [],
   "source": [
    "df.drop(columns='agreement',inplace=True)"
   ]
  },
  {
   "cell_type": "markdown",
   "metadata": {},
   "source": [
    "### Creating features"
   ]
  },
  {
   "cell_type": "markdown",
   "metadata": {},
   "source": [
    "##### Sentiment of the quote and the response"
   ]
  },
  {
   "cell_type": "code",
   "execution_count": 13,
   "metadata": {},
   "outputs": [],
   "source": [
    "sia = SIA()"
   ]
  },
  {
   "cell_type": "code",
   "execution_count": 14,
   "metadata": {},
   "outputs": [],
   "source": [
    "def get_sentiment(x):\n",
    "    return sia.polarity_scores(x)['compound']"
   ]
  },
  {
   "cell_type": "code",
   "execution_count": 15,
   "metadata": {},
   "outputs": [],
   "source": [
    "df['sentiment_quote'] = df.apply(lambda row:get_sentiment(row['quote']),axis=1)\n",
    "df['sentiment_response'] = df.apply(lambda row:get_sentiment(row['response']),axis=1)"
   ]
  },
  {
   "cell_type": "markdown",
   "metadata": {},
   "source": [
    "##### Similarity score between quote and the response"
   ]
  },
  {
   "cell_type": "code",
   "execution_count": 16,
   "metadata": {},
   "outputs": [],
   "source": [
    "def count_common_words(q,r):\n",
    "    q_words = set(q.split(' '))\n",
    "    r_words = set(r.split(' '))\n",
    "    \n",
    "    return len(q_words.intersection(r_words))"
   ]
  },
  {
   "cell_type": "code",
   "execution_count": 17,
   "metadata": {},
   "outputs": [],
   "source": [
    "df['similarity'] = df.apply(lambda row:count_common_words(row['quote'],row['response']),axis=1)"
   ]
  },
  {
   "cell_type": "markdown",
   "metadata": {},
   "source": [
    "#### Count the number of negation words in the quote and the response"
   ]
  },
  {
   "cell_type": "code",
   "execution_count": 18,
   "metadata": {},
   "outputs": [],
   "source": [
    "def count_neg(x):\n",
    "    neg = ['no','never','nobody','none','dont','neither',\"don't\",\"isn't\",'does not',\"hadn't\",\"won't\"]\n",
    "    \n",
    "    words = [word.lower() for word in x.split(\" \")]\n",
    "    \n",
    "    neg_words = [word for word in words if word in neg]\n",
    "    \n",
    "    return len(neg_words)"
   ]
  },
  {
   "cell_type": "code",
   "execution_count": 19,
   "metadata": {},
   "outputs": [],
   "source": [
    "df['neg_words_quote'] = df.apply(lambda row:count_neg(row['quote']),axis=1)"
   ]
  },
  {
   "cell_type": "code",
   "execution_count": 20,
   "metadata": {},
   "outputs": [],
   "source": [
    "df['neg_words_response'] = df.apply(lambda row:count_neg(row['response']),axis=1)"
   ]
  },
  {
   "cell_type": "markdown",
   "metadata": {},
   "source": [
    "#### Count the number of words in the quote and the response"
   ]
  },
  {
   "cell_type": "code",
   "execution_count": 21,
   "metadata": {},
   "outputs": [],
   "source": [
    "df['len_quote'] = df.apply(lambda row:len(row['quote'].split(' ')),axis=1)"
   ]
  },
  {
   "cell_type": "code",
   "execution_count": 22,
   "metadata": {},
   "outputs": [],
   "source": [
    "df['len_response'] = df.apply(lambda row:len(row['response'].split(' ')),axis=1)"
   ]
  },
  {
   "cell_type": "code",
   "execution_count": 23,
   "metadata": {},
   "outputs": [],
   "source": [
    "df_train,df_test,y_train,y_test = train_test_split(df[[\"quote\",\"response\",\"sentiment_quote\",\"sentiment_response\",'similarity','neg_words_quote','neg_words_response','len_quote','len_response']],df['agreement_class'])\n"
   ]
  },
  {
   "cell_type": "code",
   "execution_count": 24,
   "metadata": {},
   "outputs": [
    {
     "data": {
      "text/html": [
       "<div>\n",
       "<style scoped>\n",
       "    .dataframe tbody tr th:only-of-type {\n",
       "        vertical-align: middle;\n",
       "    }\n",
       "\n",
       "    .dataframe tbody tr th {\n",
       "        vertical-align: top;\n",
       "    }\n",
       "\n",
       "    .dataframe thead th {\n",
       "        text-align: right;\n",
       "    }\n",
       "</style>\n",
       "<table border=\"1\" class=\"dataframe\">\n",
       "  <thead>\n",
       "    <tr style=\"text-align: right;\">\n",
       "      <th></th>\n",
       "      <th>quote</th>\n",
       "      <th>response</th>\n",
       "      <th>sentiment_quote</th>\n",
       "      <th>sentiment_response</th>\n",
       "      <th>similarity</th>\n",
       "      <th>neg_words_quote</th>\n",
       "      <th>neg_words_response</th>\n",
       "      <th>len_quote</th>\n",
       "      <th>len_response</th>\n",
       "    </tr>\n",
       "  </thead>\n",
       "  <tbody>\n",
       "    <tr>\n",
       "      <th>8589</th>\n",
       "      <td>At least I&amp;#8217;m not advocating hauling astr...</td>\n",
       "      <td>Er, they are held to the same standards. ID fa...</td>\n",
       "      <td>0.2023</td>\n",
       "      <td>0.0516</td>\n",
       "      <td>4</td>\n",
       "      <td>0</td>\n",
       "      <td>0</td>\n",
       "      <td>49</td>\n",
       "      <td>17</td>\n",
       "    </tr>\n",
       "    <tr>\n",
       "      <th>1189</th>\n",
       "      <td>First, are you not forcing your beliefs on me ...</td>\n",
       "      <td>Ummm, no. How could I possibly be forcing my b...</td>\n",
       "      <td>-0.4404</td>\n",
       "      <td>-0.2960</td>\n",
       "      <td>7</td>\n",
       "      <td>0</td>\n",
       "      <td>0</td>\n",
       "      <td>27</td>\n",
       "      <td>35</td>\n",
       "    </tr>\n",
       "    <tr>\n",
       "      <th>7250</th>\n",
       "      <td>As theorized, the concept of evolution is anal...</td>\n",
       "      <td>I would suggest you look at the faero island m...</td>\n",
       "      <td>0.9485</td>\n",
       "      <td>0.0000</td>\n",
       "      <td>13</td>\n",
       "      <td>2</td>\n",
       "      <td>0</td>\n",
       "      <td>263</td>\n",
       "      <td>27</td>\n",
       "    </tr>\n",
       "    <tr>\n",
       "      <th>3865</th>\n",
       "      <td>the problem is, if evolution is indeed true, t...</td>\n",
       "      <td>Without the Fall, Jesus would have no need to ...</td>\n",
       "      <td>0.6908</td>\n",
       "      <td>-0.2960</td>\n",
       "      <td>4</td>\n",
       "      <td>1</td>\n",
       "      <td>1</td>\n",
       "      <td>60</td>\n",
       "      <td>23</td>\n",
       "    </tr>\n",
       "    <tr>\n",
       "      <th>7768</th>\n",
       "      <td>I would have to say that whoever told you abou...</td>\n",
       "      <td>Actually what sank that debate was a bunch of ...</td>\n",
       "      <td>0.0258</td>\n",
       "      <td>0.4939</td>\n",
       "      <td>7</td>\n",
       "      <td>0</td>\n",
       "      <td>0</td>\n",
       "      <td>35</td>\n",
       "      <td>49</td>\n",
       "    </tr>\n",
       "  </tbody>\n",
       "</table>\n",
       "</div>"
      ],
      "text/plain": [
       "                                                  quote  \\\n",
       "8589  At least I&#8217;m not advocating hauling astr...   \n",
       "1189  First, are you not forcing your beliefs on me ...   \n",
       "7250  As theorized, the concept of evolution is anal...   \n",
       "3865  the problem is, if evolution is indeed true, t...   \n",
       "7768  I would have to say that whoever told you abou...   \n",
       "\n",
       "                                               response  sentiment_quote  \\\n",
       "8589  Er, they are held to the same standards. ID fa...           0.2023   \n",
       "1189  Ummm, no. How could I possibly be forcing my b...          -0.4404   \n",
       "7250  I would suggest you look at the faero island m...           0.9485   \n",
       "3865  Without the Fall, Jesus would have no need to ...           0.6908   \n",
       "7768  Actually what sank that debate was a bunch of ...           0.0258   \n",
       "\n",
       "      sentiment_response  similarity  neg_words_quote  neg_words_response  \\\n",
       "8589              0.0516           4                0                   0   \n",
       "1189             -0.2960           7                0                   0   \n",
       "7250              0.0000          13                2                   0   \n",
       "3865             -0.2960           4                1                   1   \n",
       "7768              0.4939           7                0                   0   \n",
       "\n",
       "      len_quote  len_response  \n",
       "8589         49            17  \n",
       "1189         27            35  \n",
       "7250        263            27  \n",
       "3865         60            23  \n",
       "7768         35            49  "
      ]
     },
     "execution_count": 24,
     "metadata": {},
     "output_type": "execute_result"
    }
   ],
   "source": [
    "df_train.head()"
   ]
  },
  {
   "cell_type": "markdown",
   "metadata": {},
   "source": [
    "#### Creating numerical vectors from the words of the quote and the response"
   ]
  },
  {
   "cell_type": "code",
   "execution_count": 25,
   "metadata": {},
   "outputs": [],
   "source": [
    "vect_quote = TfidfVectorizer(stop_words='english',min_df=2,\n",
    "                       token_pattern=r'\\b[a-zA-Z0-9\\']+\\b', ngram_range=(2,4))"
   ]
  },
  {
   "cell_type": "code",
   "execution_count": 26,
   "metadata": {},
   "outputs": [],
   "source": [
    "transf_train_quote = vect_quote.fit_transform(df_train.quote)\n",
    "transf_test_quote = vect_quote.transform(df_test.quote)"
   ]
  },
  {
   "cell_type": "code",
   "execution_count": 27,
   "metadata": {},
   "outputs": [],
   "source": [
    "vect_response = TfidfVectorizer(stop_words='english',min_df=2,\n",
    "                       token_pattern=r'\\b[a-zA-Z0-9\\']+\\b', ngram_range=(2,4))"
   ]
  },
  {
   "cell_type": "code",
   "execution_count": 28,
   "metadata": {},
   "outputs": [],
   "source": [
    "transf_train_response = vect_response.fit_transform(df_train.response)\n",
    "transf_test_response = vect_response.transform(df_test.response)"
   ]
  },
  {
   "cell_type": "code",
   "execution_count": 29,
   "metadata": {},
   "outputs": [],
   "source": [
    "df_train_sparse = hstack([transf_train_quote,transf_train_response,df_train[['sentiment_quote','sentiment_response','similarity','neg_words_quote','neg_words_response','len_quote','len_response']]]).toarray()\n"
   ]
  },
  {
   "cell_type": "code",
   "execution_count": 30,
   "metadata": {},
   "outputs": [],
   "source": [
    "df_test_sparse = hstack([transf_test_quote,transf_test_response,df_test[['sentiment_quote','sentiment_response','similarity','neg_words_quote','neg_words_response','len_quote','len_response']]]).toarray()\n",
    "                                                                           "
   ]
  },
  {
   "cell_type": "markdown",
   "metadata": {},
   "source": [
    "##### Training a logistic regression model"
   ]
  },
  {
   "cell_type": "code",
   "execution_count": 31,
   "metadata": {},
   "outputs": [
    {
     "data": {
      "text/plain": [
       "0.613728156857043"
      ]
     },
     "execution_count": 31,
     "metadata": {},
     "output_type": "execute_result"
    }
   ],
   "source": [
    "np.mean(cross_val_score(LogisticRegression(C=10), df_train_sparse, y_train, cv=5, scoring='roc_auc'))"
   ]
  },
  {
   "cell_type": "code",
   "execution_count": 32,
   "metadata": {},
   "outputs": [],
   "source": [
    "logreg=LogisticRegression(C=10,multi_class=\"multinomial\",solver = 'lbfgs')"
   ]
  },
  {
   "cell_type": "code",
   "execution_count": 33,
   "metadata": {},
   "outputs": [
    {
     "name": "stderr",
     "output_type": "stream",
     "text": [
      "/anaconda2/envs/Python36/lib/python3.6/site-packages/sklearn/linear_model/logistic.py:758: ConvergenceWarning: lbfgs failed to converge. Increase the number of iterations.\n",
      "  \"of iterations.\", ConvergenceWarning)\n"
     ]
    },
    {
     "data": {
      "text/plain": [
       "LogisticRegression(C=10, class_weight=None, dual=False, fit_intercept=True,\n",
       "          intercept_scaling=1, max_iter=100, multi_class='multinomial',\n",
       "          n_jobs=None, penalty='l2', random_state=None, solver='lbfgs',\n",
       "          tol=0.0001, verbose=0, warm_start=False)"
      ]
     },
     "execution_count": 33,
     "metadata": {},
     "output_type": "execute_result"
    }
   ],
   "source": [
    "logreg.fit(df_train_sparse, y_train)"
   ]
  },
  {
   "cell_type": "code",
   "execution_count": 34,
   "metadata": {},
   "outputs": [],
   "source": [
    "y_pred = logreg.predict(df_test_sparse)"
   ]
  },
  {
   "cell_type": "code",
   "execution_count": 36,
   "metadata": {},
   "outputs": [],
   "source": [
    "y_test_new = []\n",
    "for i in y_test.values:\n",
    "    if i=='agreement':\n",
    "        y_test_new.append(0)\n",
    "    elif i=='none':\n",
    "        y_test_new.append(1)\n",
    "    else:\n",
    "        y_test_new.append(2)"
   ]
  },
  {
   "cell_type": "code",
   "execution_count": 37,
   "metadata": {},
   "outputs": [],
   "source": [
    "y_pred_new = []\n",
    "for i in y_pred:\n",
    "    if i=='agreement':\n",
    "        y_pred_new.append(0)\n",
    "    elif i=='none':\n",
    "        y_pred_new.append(1)\n",
    "    else:\n",
    "        y_pred_new.append(2)"
   ]
  },
  {
   "cell_type": "code",
   "execution_count": 39,
   "metadata": {},
   "outputs": [
    {
     "data": {
      "text/plain": [
       "0.5019128578175165"
      ]
     },
     "execution_count": 39,
     "metadata": {},
     "output_type": "execute_result"
    }
   ],
   "source": [
    "roc_auc_score(y_test_new,y_pred_new)"
   ]
  },
  {
   "cell_type": "markdown",
   "metadata": {},
   "source": [
    "##### Load the twitter interactions data "
   ]
  },
  {
   "cell_type": "code",
   "execution_count": 40,
   "metadata": {},
   "outputs": [],
   "source": [
    "interactions_df = pd.read_csv('May3_interactions.csv')"
   ]
  },
  {
   "cell_type": "code",
   "execution_count": 41,
   "metadata": {},
   "outputs": [
    {
     "data": {
      "text/html": [
       "<div>\n",
       "<style scoped>\n",
       "    .dataframe tbody tr th:only-of-type {\n",
       "        vertical-align: middle;\n",
       "    }\n",
       "\n",
       "    .dataframe tbody tr th {\n",
       "        vertical-align: top;\n",
       "    }\n",
       "\n",
       "    .dataframe thead th {\n",
       "        text-align: right;\n",
       "    }\n",
       "</style>\n",
       "<table border=\"1\" class=\"dataframe\">\n",
       "  <thead>\n",
       "    <tr style=\"text-align: right;\">\n",
       "      <th></th>\n",
       "      <th>Unnamed: 0</th>\n",
       "      <th>created_at</th>\n",
       "      <th>id</th>\n",
       "      <th>text</th>\n",
       "      <th>retweets</th>\n",
       "      <th>retweet_count</th>\n",
       "      <th>user_screenname</th>\n",
       "      <th>in_reply_to_screen_name</th>\n",
       "      <th>in_reply_to_status_id</th>\n",
       "      <th>quoted_status</th>\n",
       "      <th>hashtags</th>\n",
       "      <th>user_mentions</th>\n",
       "      <th>type_of_interaction</th>\n",
       "      <th>quoted_text_original</th>\n",
       "      <th>quoted_text_original_screenname</th>\n",
       "      <th>retweeting_orig_screenname</th>\n",
       "      <th>orig_text_replied_to</th>\n",
       "      <th>orig_author_replied_to</th>\n",
       "      <th>interactions</th>\n",
       "      <th>final_interactions</th>\n",
       "    </tr>\n",
       "  </thead>\n",
       "  <tbody>\n",
       "    <tr>\n",
       "      <th>0</th>\n",
       "      <td>0</td>\n",
       "      <td>2019-05-03 17:56:09</td>\n",
       "      <td>1124372085114122240</td>\n",
       "      <td>The stakes are high for our community! Fla cou...</td>\n",
       "      <td>&lt;bound method Status.retweets of Status(_api=&lt;...</td>\n",
       "      <td>2</td>\n",
       "      <td>RepDarrenSoto</td>\n",
       "      <td>NaN</td>\n",
       "      <td>NaN</td>\n",
       "      <td>NaN</td>\n",
       "      <td>['ForThePeople']</td>\n",
       "      <td>['HouseDemocrats']</td>\n",
       "      <td>Dem-&gt;Dem</td>\n",
       "      <td>NaN</td>\n",
       "      <td>NaN</td>\n",
       "      <td>NaN</td>\n",
       "      <td>NaN</td>\n",
       "      <td>NaN</td>\n",
       "      <td>NaN</td>\n",
       "      <td>Dem-&gt;Dem</td>\n",
       "    </tr>\n",
       "    <tr>\n",
       "      <th>1</th>\n",
       "      <td>1</td>\n",
       "      <td>2019-05-02 17:13:10</td>\n",
       "      <td>1123998878934740992</td>\n",
       "      <td>Here’s a link to our Supplement to Puerto Rico...</td>\n",
       "      <td>&lt;bound method Status.retweets of Status(_api=&lt;...</td>\n",
       "      <td>4</td>\n",
       "      <td>RepDarrenSoto</td>\n",
       "      <td>RepDarrenSoto</td>\n",
       "      <td>1.123999e+18</td>\n",
       "      <td>NaN</td>\n",
       "      <td>[]</td>\n",
       "      <td>[]</td>\n",
       "      <td>NaN</td>\n",
       "      <td>NaN</td>\n",
       "      <td>NaN</td>\n",
       "      <td>NaN</td>\n",
       "      <td>Here’s a link to our Puerto Rico Recovery Blue...</td>\n",
       "      <td>RepDarrenSoto</td>\n",
       "      <td>Dem-&gt;Dem</td>\n",
       "      <td>Dem-&gt;Dem</td>\n",
       "    </tr>\n",
       "    <tr>\n",
       "      <th>2</th>\n",
       "      <td>2</td>\n",
       "      <td>2019-05-02 17:11:59</td>\n",
       "      <td>1123998583575990273</td>\n",
       "      <td>Here’s a link to our Puerto Rico Recovery Blue...</td>\n",
       "      <td>&lt;bound method Status.retweets of Status(_api=&lt;...</td>\n",
       "      <td>2</td>\n",
       "      <td>RepDarrenSoto</td>\n",
       "      <td>RepDarrenSoto</td>\n",
       "      <td>1.123994e+18</td>\n",
       "      <td>NaN</td>\n",
       "      <td>[]</td>\n",
       "      <td>[]</td>\n",
       "      <td>NaN</td>\n",
       "      <td>NaN</td>\n",
       "      <td>NaN</td>\n",
       "      <td>NaN</td>\n",
       "      <td>In @NRDems Cmte with Gov @ricardorossello disc...</td>\n",
       "      <td>RepDarrenSoto</td>\n",
       "      <td>Dem-&gt;Dem</td>\n",
       "      <td>Dem-&gt;Dem</td>\n",
       "    </tr>\n",
       "    <tr>\n",
       "      <th>3</th>\n",
       "      <td>3</td>\n",
       "      <td>2019-05-01 21:22:55</td>\n",
       "      <td>1123699344388055040</td>\n",
       "      <td>@RepDarrenSoto meets with Seminole Members @G...</td>\n",
       "      <td>&lt;bound method Status.retweets of Status(_api=&lt;...</td>\n",
       "      <td>2</td>\n",
       "      <td>RepDarrenSoto</td>\n",
       "      <td>NaN</td>\n",
       "      <td>NaN</td>\n",
       "      <td>NaN</td>\n",
       "      <td>[]</td>\n",
       "      <td>['SeminoleEC', 'RepDarrenSoto', 'GladesElecCoo...</td>\n",
       "      <td>Dem-&gt;Dem</td>\n",
       "      <td>NaN</td>\n",
       "      <td>NaN</td>\n",
       "      <td>SeminoleEC</td>\n",
       "      <td>NaN</td>\n",
       "      <td>NaN</td>\n",
       "      <td>NaN</td>\n",
       "      <td>Dem-&gt;Dem</td>\n",
       "    </tr>\n",
       "    <tr>\n",
       "      <th>4</th>\n",
       "      <td>4</td>\n",
       "      <td>2019-05-01 15:10:12</td>\n",
       "      <td>1123605547985584129</td>\n",
       "      <td>Great meeting with @RepDarrenSoto and Sr. Leg...</td>\n",
       "      <td>&lt;bound method Status.retweets of Status(_api=&lt;...</td>\n",
       "      <td>2</td>\n",
       "      <td>RepDarrenSoto</td>\n",
       "      <td>NaN</td>\n",
       "      <td>NaN</td>\n",
       "      <td>NaN</td>\n",
       "      <td>[]</td>\n",
       "      <td>['GregPheneger', 'RepDarrenSoto']</td>\n",
       "      <td>Dem-&gt;Dem</td>\n",
       "      <td>NaN</td>\n",
       "      <td>NaN</td>\n",
       "      <td>GregPheneger</td>\n",
       "      <td>NaN</td>\n",
       "      <td>NaN</td>\n",
       "      <td>NaN</td>\n",
       "      <td>Dem-&gt;Dem</td>\n",
       "    </tr>\n",
       "  </tbody>\n",
       "</table>\n",
       "</div>"
      ],
      "text/plain": [
       "   Unnamed: 0           created_at                   id  \\\n",
       "0           0  2019-05-03 17:56:09  1124372085114122240   \n",
       "1           1  2019-05-02 17:13:10  1123998878934740992   \n",
       "2           2  2019-05-02 17:11:59  1123998583575990273   \n",
       "3           3  2019-05-01 21:22:55  1123699344388055040   \n",
       "4           4  2019-05-01 15:10:12  1123605547985584129   \n",
       "\n",
       "                                                text  \\\n",
       "0  The stakes are high for our community! Fla cou...   \n",
       "1  Here’s a link to our Supplement to Puerto Rico...   \n",
       "2  Here’s a link to our Puerto Rico Recovery Blue...   \n",
       "3   @RepDarrenSoto meets with Seminole Members @G...   \n",
       "4   Great meeting with @RepDarrenSoto and Sr. Leg...   \n",
       "\n",
       "                                            retweets  retweet_count  \\\n",
       "0  <bound method Status.retweets of Status(_api=<...              2   \n",
       "1  <bound method Status.retweets of Status(_api=<...              4   \n",
       "2  <bound method Status.retweets of Status(_api=<...              2   \n",
       "3  <bound method Status.retweets of Status(_api=<...              2   \n",
       "4  <bound method Status.retweets of Status(_api=<...              2   \n",
       "\n",
       "  user_screenname in_reply_to_screen_name  in_reply_to_status_id  \\\n",
       "0   RepDarrenSoto                     NaN                    NaN   \n",
       "1   RepDarrenSoto           RepDarrenSoto           1.123999e+18   \n",
       "2   RepDarrenSoto           RepDarrenSoto           1.123994e+18   \n",
       "3   RepDarrenSoto                     NaN                    NaN   \n",
       "4   RepDarrenSoto                     NaN                    NaN   \n",
       "\n",
       "  quoted_status          hashtags  \\\n",
       "0           NaN  ['ForThePeople']   \n",
       "1           NaN                []   \n",
       "2           NaN                []   \n",
       "3           NaN                []   \n",
       "4           NaN                []   \n",
       "\n",
       "                                       user_mentions type_of_interaction  \\\n",
       "0                                 ['HouseDemocrats']            Dem->Dem   \n",
       "1                                                 []                 NaN   \n",
       "2                                                 []                 NaN   \n",
       "3  ['SeminoleEC', 'RepDarrenSoto', 'GladesElecCoo...            Dem->Dem   \n",
       "4                  ['GregPheneger', 'RepDarrenSoto']            Dem->Dem   \n",
       "\n",
       "  quoted_text_original quoted_text_original_screenname  \\\n",
       "0                  NaN                             NaN   \n",
       "1                  NaN                             NaN   \n",
       "2                  NaN                             NaN   \n",
       "3                  NaN                             NaN   \n",
       "4                  NaN                             NaN   \n",
       "\n",
       "  retweeting_orig_screenname  \\\n",
       "0                        NaN   \n",
       "1                        NaN   \n",
       "2                        NaN   \n",
       "3                 SeminoleEC   \n",
       "4               GregPheneger   \n",
       "\n",
       "                                orig_text_replied_to orig_author_replied_to  \\\n",
       "0                                                NaN                    NaN   \n",
       "1  Here’s a link to our Puerto Rico Recovery Blue...          RepDarrenSoto   \n",
       "2  In @NRDems Cmte with Gov @ricardorossello disc...          RepDarrenSoto   \n",
       "3                                                NaN                    NaN   \n",
       "4                                                NaN                    NaN   \n",
       "\n",
       "  interactions final_interactions  \n",
       "0          NaN           Dem->Dem  \n",
       "1     Dem->Dem           Dem->Dem  \n",
       "2     Dem->Dem           Dem->Dem  \n",
       "3          NaN           Dem->Dem  \n",
       "4          NaN           Dem->Dem  "
      ]
     },
     "execution_count": 41,
     "metadata": {},
     "output_type": "execute_result"
    }
   ],
   "source": [
    "interactions_df.head()"
   ]
  },
  {
   "cell_type": "code",
   "execution_count": 42,
   "metadata": {},
   "outputs": [],
   "source": [
    "quotes_df = interactions_df[interactions_df['retweeting_orig_screenname'].isna()]"
   ]
  },
  {
   "cell_type": "code",
   "execution_count": 43,
   "metadata": {},
   "outputs": [],
   "source": [
    "user_mentions = quotes_df[quotes_df['retweeting_orig_screenname'].isna() & quotes_df['orig_author_replied_to'].isna()]\n"
   ]
  },
  {
   "cell_type": "code",
   "execution_count": 44,
   "metadata": {},
   "outputs": [],
   "source": [
    "retweets_df = interactions_df[~interactions_df['retweeting_orig_screenname'].isna()]"
   ]
  },
  {
   "cell_type": "code",
   "execution_count": 45,
   "metadata": {},
   "outputs": [],
   "source": [
    "def get_response(x):\n",
    "    if isinstance(x['quoted_text_original_screenname'],str):\n",
    "        return (x['quoted_text_original'])\n",
    "    else:\n",
    "        return (x['orig_text_replied_to'])"
   ]
  },
  {
   "cell_type": "code",
   "execution_count": 46,
   "metadata": {},
   "outputs": [],
   "source": [
    "quotes_df['response'] = quotes_df.apply(lambda row: get_response(row),axis=1)"
   ]
  },
  {
   "cell_type": "code",
   "execution_count": 47,
   "metadata": {},
   "outputs": [],
   "source": [
    "quotes_df = quotes_df[~(quotes_df['response'].isna())]\n"
   ]
  },
  {
   "cell_type": "code",
   "execution_count": 48,
   "metadata": {},
   "outputs": [],
   "source": [
    "new_df = quotes_df[['text','response']]"
   ]
  },
  {
   "cell_type": "markdown",
   "metadata": {},
   "source": [
    "##### Create the above mentioned features for the twitter interactions corpus"
   ]
  },
  {
   "cell_type": "code",
   "execution_count": 49,
   "metadata": {},
   "outputs": [],
   "source": [
    "new_df['sentiment_quote'] = new_df.apply(lambda row:get_sentiment(row['text']),axis=1)\n",
    "new_df['sentiment_response'] = new_df.apply(lambda row:get_sentiment(row['response']),axis=1)"
   ]
  },
  {
   "cell_type": "code",
   "execution_count": 50,
   "metadata": {},
   "outputs": [],
   "source": [
    "new_df['similarity'] = new_df.apply(lambda row:count_common_words(row['text'],row['response']),axis=1)"
   ]
  },
  {
   "cell_type": "code",
   "execution_count": 51,
   "metadata": {},
   "outputs": [],
   "source": [
    "new_df['neg_words_quote'] = new_df.apply(lambda row:count_neg(row['text']),axis=1)\n",
    "\n",
    "new_df['neg_words_response'] = new_df.apply(lambda row:count_neg(row['response']),axis=1)\n",
    "\n",
    "new_df['len_quote'] = new_df.apply(lambda row:len(row['text'].split(' ')),axis=1)\n",
    "\n",
    "new_df['len_response'] = new_df.apply(lambda row:len(row['response'].split(' ')),axis=1)"
   ]
  },
  {
   "cell_type": "markdown",
   "metadata": {},
   "source": [
    "##### vectorise the quote and the response pairs in the twitter interactions corpus"
   ]
  },
  {
   "cell_type": "code",
   "execution_count": 52,
   "metadata": {},
   "outputs": [],
   "source": [
    "new_df_quote = vect_quote.transform(new_df.text)\n",
    "new_df_response = vect_response.transform(new_df.response)"
   ]
  },
  {
   "cell_type": "code",
   "execution_count": 53,
   "metadata": {},
   "outputs": [],
   "source": [
    "new_df_sparse = hstack([new_df_quote,new_df_response,new_df[['sentiment_quote','sentiment_response','similarity','neg_words_quote','neg_words_response','len_quote','len_response']]]).toarray()\n"
   ]
  },
  {
   "cell_type": "markdown",
   "metadata": {},
   "source": [
    "#### Predict the class labels \"agreement\"/\"disagreement\" for the twitter quote-response pairs"
   ]
  },
  {
   "cell_type": "code",
   "execution_count": 54,
   "metadata": {},
   "outputs": [],
   "source": [
    "y_pred = logreg.predict(new_df_sparse)"
   ]
  },
  {
   "cell_type": "code",
   "execution_count": 55,
   "metadata": {},
   "outputs": [],
   "source": [
    "new_df['interaction'] = quotes_df['final_interactions']"
   ]
  },
  {
   "cell_type": "code",
   "execution_count": 56,
   "metadata": {},
   "outputs": [],
   "source": [
    "new_df['class'] = y_pred"
   ]
  },
  {
   "cell_type": "markdown",
   "metadata": {},
   "source": [
    "#### All the tweets that are retweeted are assigned the class \"agreement\""
   ]
  },
  {
   "cell_type": "code",
   "execution_count": 57,
   "metadata": {},
   "outputs": [],
   "source": [
    "retweets_df['class'] = 'agreement'"
   ]
  },
  {
   "cell_type": "markdown",
   "metadata": {},
   "source": [
    "#### The tweets in the user-mentioned df are assigned a class according to the sentiment of the text"
   ]
  },
  {
   "cell_type": "code",
   "execution_count": 58,
   "metadata": {},
   "outputs": [],
   "source": [
    "def get_sentiment2(x):\n",
    "    sentiment= sia.polarity_scores(x)['compound']\n",
    "    if sentiment>0:\n",
    "        return \"agreement\"\n",
    "    else:\n",
    "        return \"disagreement\""
   ]
  },
  {
   "cell_type": "code",
   "execution_count": 59,
   "metadata": {},
   "outputs": [],
   "source": [
    "user_mentions['class'] = user_mentions.apply(lambda row:get_sentiment2(row['text']),axis=1)\n"
   ]
  },
  {
   "cell_type": "code",
   "execution_count": 60,
   "metadata": {},
   "outputs": [],
   "source": [
    "new_df.rename(index=str, columns={\"interaction\": \"final_interactions\"},inplace=True)"
   ]
  },
  {
   "cell_type": "markdown",
   "metadata": {},
   "source": [
    "#### Joining the separate dataframes into one"
   ]
  },
  {
   "cell_type": "code",
   "execution_count": 61,
   "metadata": {},
   "outputs": [],
   "source": [
    "concatenated_df = pd.concat([user_mentions[['final_interactions','class']],retweets_df[['final_interactions','class']],new_df[['final_interactions','class']]],axis=0)\n"
   ]
  },
  {
   "cell_type": "code",
   "execution_count": 62,
   "metadata": {},
   "outputs": [
    {
     "data": {
      "text/html": [
       "<div>\n",
       "<style scoped>\n",
       "    .dataframe tbody tr th:only-of-type {\n",
       "        vertical-align: middle;\n",
       "    }\n",
       "\n",
       "    .dataframe tbody tr th {\n",
       "        vertical-align: top;\n",
       "    }\n",
       "\n",
       "    .dataframe thead th {\n",
       "        text-align: right;\n",
       "    }\n",
       "</style>\n",
       "<table border=\"1\" class=\"dataframe\">\n",
       "  <thead>\n",
       "    <tr style=\"text-align: right;\">\n",
       "      <th></th>\n",
       "      <th>final_interactions</th>\n",
       "      <th>class</th>\n",
       "    </tr>\n",
       "  </thead>\n",
       "  <tbody>\n",
       "    <tr>\n",
       "      <th>0</th>\n",
       "      <td>Dem-&gt;Dem</td>\n",
       "      <td>disagreement</td>\n",
       "    </tr>\n",
       "    <tr>\n",
       "      <th>11</th>\n",
       "      <td>Dem-&gt;Dem</td>\n",
       "      <td>agreement</td>\n",
       "    </tr>\n",
       "    <tr>\n",
       "      <th>12</th>\n",
       "      <td>Dem-&gt;Dem</td>\n",
       "      <td>disagreement</td>\n",
       "    </tr>\n",
       "    <tr>\n",
       "      <th>14</th>\n",
       "      <td>Dem-&gt;Dem</td>\n",
       "      <td>disagreement</td>\n",
       "    </tr>\n",
       "    <tr>\n",
       "      <th>16</th>\n",
       "      <td>Dem-&gt;Dem</td>\n",
       "      <td>disagreement</td>\n",
       "    </tr>\n",
       "  </tbody>\n",
       "</table>\n",
       "</div>"
      ],
      "text/plain": [
       "   final_interactions         class\n",
       "0            Dem->Dem  disagreement\n",
       "11           Dem->Dem     agreement\n",
       "12           Dem->Dem  disagreement\n",
       "14           Dem->Dem  disagreement\n",
       "16           Dem->Dem  disagreement"
      ]
     },
     "execution_count": 62,
     "metadata": {},
     "output_type": "execute_result"
    }
   ],
   "source": [
    "concatenated_df.head()"
   ]
  },
  {
   "cell_type": "markdown",
   "metadata": {},
   "source": [
    "### Scoring : Positive Intergroup Reciprocity"
   ]
  },
  {
   "cell_type": "code",
   "execution_count": 64,
   "metadata": {
    "scrolled": true
   },
   "outputs": [
    {
     "data": {
      "text/plain": [
       "0.6280566280566281"
      ]
     },
     "execution_count": 64,
     "metadata": {},
     "output_type": "execute_result"
    }
   ],
   "source": [
    "conc_df1 = concatenated_df[concatenated_df['final_interactions']=='Dem->Dem']\n",
    "len(conc_df1[conc_df1['class']=='agreement'])/len(conc_df1)"
   ]
  },
  {
   "cell_type": "code",
   "execution_count": 65,
   "metadata": {},
   "outputs": [
    {
     "data": {
      "text/plain": [
       "0.8740875912408759"
      ]
     },
     "execution_count": 65,
     "metadata": {},
     "output_type": "execute_result"
    }
   ],
   "source": [
    "conc_df2 = concatenated_df[concatenated_df['final_interactions']=='Rep->Rep']\n",
    "len(conc_df2[conc_df2['class']=='agreement'])/len(conc_df2)"
   ]
  },
  {
   "cell_type": "code",
   "execution_count": 66,
   "metadata": {},
   "outputs": [
    {
     "data": {
      "text/plain": [
       "0.6896551724137931"
      ]
     },
     "execution_count": 66,
     "metadata": {},
     "output_type": "execute_result"
    }
   ],
   "source": [
    "conc_df3 = concatenated_df[concatenated_df['final_interactions']=='Rep->Dem']\n",
    "len(conc_df3[conc_df3['class']=='agreement'])/len(conc_df3)"
   ]
  },
  {
   "cell_type": "code",
   "execution_count": 67,
   "metadata": {},
   "outputs": [
    {
     "data": {
      "text/plain": [
       "0.717948717948718"
      ]
     },
     "execution_count": 67,
     "metadata": {},
     "output_type": "execute_result"
    }
   ],
   "source": [
    "conc_df4 = concatenated_df[concatenated_df['final_interactions']=='Dem->Rep']\n",
    "len(conc_df4[conc_df4['class']=='agreement'])/len(conc_df4)"
   ]
  },
  {
   "cell_type": "code",
   "execution_count": 68,
   "metadata": {},
   "outputs": [],
   "source": [
    "scores_df = pd.DataFrame({'Republican':[0.874,0.689],'Democrat':[0.717,0.631]},index=['Republican','Democrat'])"
   ]
  },
  {
   "cell_type": "code",
   "execution_count": 69,
   "metadata": {},
   "outputs": [
    {
     "data": {
      "text/html": [
       "<div>\n",
       "<style scoped>\n",
       "    .dataframe tbody tr th:only-of-type {\n",
       "        vertical-align: middle;\n",
       "    }\n",
       "\n",
       "    .dataframe tbody tr th {\n",
       "        vertical-align: top;\n",
       "    }\n",
       "\n",
       "    .dataframe thead th {\n",
       "        text-align: right;\n",
       "    }\n",
       "</style>\n",
       "<table border=\"1\" class=\"dataframe\">\n",
       "  <thead>\n",
       "    <tr style=\"text-align: right;\">\n",
       "      <th></th>\n",
       "      <th>Republican</th>\n",
       "      <th>Democrat</th>\n",
       "    </tr>\n",
       "  </thead>\n",
       "  <tbody>\n",
       "    <tr>\n",
       "      <th>Republican</th>\n",
       "      <td>0.874</td>\n",
       "      <td>0.717</td>\n",
       "    </tr>\n",
       "    <tr>\n",
       "      <th>Democrat</th>\n",
       "      <td>0.689</td>\n",
       "      <td>0.631</td>\n",
       "    </tr>\n",
       "  </tbody>\n",
       "</table>\n",
       "</div>"
      ],
      "text/plain": [
       "            Republican  Democrat\n",
       "Republican       0.874     0.717\n",
       "Democrat         0.689     0.631"
      ]
     },
     "execution_count": 69,
     "metadata": {},
     "output_type": "execute_result"
    }
   ],
   "source": [
    "scores_df"
   ]
  },
  {
   "cell_type": "code",
   "execution_count": 70,
   "metadata": {},
   "outputs": [
    {
     "data": {
      "image/png": "[encoded data removed]",
      "text/plain": [
       "<Figure size 432x288 with 1 Axes>"
      ]
     },
     "metadata": {
      "needs_background": "light"
     },
     "output_type": "display_data"
    }
   ],
   "source": [
    "#plt.figure(figsize=(10,8))\n",
    "interactions = ['Rep->Rep','Rep->Dem', 'Dem->Rep','Dem->Dem']\n",
    "scores = [0.874,0.717,0.689, 0.631]\n",
    "sns.barplot(x=interactions,y=scores)\n",
    "plt.title('Positive Intergroup Reciprocity')\n",
    "plt.show()"
   ]
  },
  {
   "cell_type": "markdown",
   "metadata": {},
   "source": [
    "#### Count of retweets within and between each group"
   ]
  },
  {
   "cell_type": "code",
   "execution_count": 71,
   "metadata": {},
   "outputs": [],
   "source": [
    "dd_retweet_cnt = len(retweets_df[retweets_df['type_of_interaction']=='Dem->Dem'])\n",
    "rr_retweet_cnt = len(retweets_df[retweets_df['type_of_interaction']=='Rep->Rep'])\n",
    "rd_retweet_cnt = len(retweets_df[retweets_df['type_of_interaction']=='Rep->Dem'])\n",
    "dr_retweet_cnt = len(retweets_df[retweets_df['type_of_interaction']=='Dem->Rep'])"
   ]
  },
  {
   "cell_type": "code",
   "execution_count": 72,
   "metadata": {},
   "outputs": [
    {
     "data": {
      "image/png": "[encoded data removed]",
      "text/plain": [
       "<Figure size 432x288 with 1 Axes>"
      ]
     },
     "metadata": {
      "needs_background": "light"
     },
     "output_type": "display_data"
    }
   ],
   "source": [
    "interactions = ['Rep->Rep','Rep->Dem', 'Dem->Rep','Dem->Dem']\n",
    "scores = [rr_retweet_cnt,rd_retweet_cnt,dr_retweet_cnt, dd_retweet_cnt]\n",
    "sns.barplot(x=interactions,y=scores)\n",
    "plt.title('Retweet Count by Interactions')\n",
    "plt.show()"
   ]
  },
  {
   "cell_type": "markdown",
   "metadata": {},
   "source": [
    "#### Count of user mentions within and between each group"
   ]
  },
  {
   "cell_type": "code",
   "execution_count": 73,
   "metadata": {},
   "outputs": [],
   "source": [
    "dd_user_mentions_cnt = len(user_mentions[user_mentions['final_interactions']=='Dem->Dem'])\n",
    "rr_user_mentions_cnt = len(user_mentions[user_mentions['final_interactions']=='Rep->Rep'])\n",
    "rd_user_mentions_cnt = len(user_mentions[user_mentions['final_interactions']=='Rep->Dem'])\n",
    "dr_user_mentions_cnt = len(user_mentions[user_mentions['final_interactions']=='Dem->Rep'])"
   ]
  },
  {
   "cell_type": "code",
   "execution_count": 74,
   "metadata": {},
   "outputs": [
    {
     "data": {
      "image/png": "[encoded data removed]",
      "text/plain": [
       "<Figure size 432x288 with 1 Axes>"
      ]
     },
     "metadata": {
      "needs_background": "light"
     },
     "output_type": "display_data"
    }
   ],
   "source": [
    "interactions = ['Rep->Rep','Rep->Dem', 'Dem->Rep','Dem->Dem']\n",
    "scores = [rr_user_mentions_cnt,rd_user_mentions_cnt,dr_user_mentions_cnt, dd_user_mentions_cnt]\n",
    "sns.barplot(x=interactions,y=scores)\n",
    "plt.title('User Mention Count by Interactions')\n",
    "plt.show()"
   ]
  },
  {
   "cell_type": "markdown",
   "metadata": {},
   "source": [
    "#### Count of quoted tweets within and between each group"
   ]
  },
  {
   "cell_type": "code",
   "execution_count": 75,
   "metadata": {},
   "outputs": [],
   "source": [
    "dd_quoted_cnt = len(new_df[new_df['final_interactions']=='Dem->Dem'])\n",
    "rr_quoted_cnt = len(new_df[new_df['final_interactions']=='Rep->Rep'])\n",
    "rd_quoted_cnt = len(new_df[new_df['final_interactions']=='Rep->Dem'])\n",
    "dr_quoted_cnt = len(new_df[new_df['final_interactions']=='Dem->Rep'])"
   ]
  },
  {
   "cell_type": "code",
   "execution_count": 76,
   "metadata": {},
   "outputs": [
    {
     "data": {
      "image/png": "[encoded data removed]",
      "text/plain": [
       "<Figure size 432x288 with 1 Axes>"
      ]
     },
     "metadata": {
      "needs_background": "light"
     },
     "output_type": "display_data"
    }
   ],
   "source": [
    "interactions = ['Rep->Rep','Rep->Dem', 'Dem->Rep','Dem->Dem']\n",
    "scores = [rr_quoted_cnt,rd_quoted_cnt,dr_quoted_cnt, dd_quoted_cnt]\n",
    "sns.barplot(x=interactions,y=scores)\n",
    "plt.title('Quoted text Count by Interactions')\n",
    "plt.show()"
   ]
  },
  {
   "cell_type": "code",
   "execution_count": null,
   "metadata": {},
   "outputs": [],
   "source": []
  }
 ],
 "metadata": {
  "kernelspec": {
   "display_name": "Python (Python36)",
   "language": "python",
   "name": "python36"
  },
  "language_info": {
   "codemirror_mode": {
    "name": "ipython",
    "version": 3
   },
   "file_extension": ".py",
   "mimetype": "text/x-python",
   "name": "python",
   "nbconvert_exporter": "python",
   "pygments_lexer": "ipython3",
   "version": "3.6.7"
  }
 },
 "nbformat": 4,
 "nbformat_minor": 2
}
